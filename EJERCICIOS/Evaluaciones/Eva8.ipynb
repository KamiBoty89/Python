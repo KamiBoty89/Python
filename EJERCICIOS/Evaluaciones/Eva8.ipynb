{
 "cells": [
  {
   "cell_type": "markdown",
   "metadata": {},
   "source": [
    "Ejercicio 1 (2 puntos)\n",
    "\n",
    "Escribe un programa python que pida un número por teclado y que cree un diccionario cuyas claves sean desde el número 1 hasta el número indicado, y los valores sean los cuadrados de las claves.\n",
    "\n",
    "Ejemplo: si se ingresa el 4 imprima el cuadrado de 1, de 2, de 3 y de 4"
   ]
  },
  {
   "cell_type": "code",
   "execution_count": 11,
   "metadata": {},
   "outputs": [
    {
     "name": "stdout",
     "output_type": "stream",
     "text": [
      "Ingresa un nuero entero positivo\n",
      "El cuadrado de 1 es: 1\n",
      "El cuadrado de 2 es: 4\n",
      "El cuadrado de 3 es: 9\n",
      "El cuadrado de 4 es: 16\n",
      "El cuadrado de 5 es: 25\n",
      "{1: 1, 2: 4, 3: 9, 4: 16, 5: 25}\n"
     ]
    }
   ],
   "source": [
    "print('Ingresa un nuero entero positivo')\n",
    "numero=int(input('Numero:'))\n",
    "diccionario={}\n",
    "for num in range(numero):\n",
    "    diccionario[num+1]=(num+1)**2\n",
    "    print('El cuadrado de',num+1,'es:',diccionario[num+1])\n",
    "print(diccionario)    \n"
   ]
  },
  {
   "cell_type": "markdown",
   "metadata": {},
   "source": [
    "Ejercicio 2 (2 puntos)\n",
    "\n",
    "Escribe un programa que lea una cadena y devuelva un diccionario con la cantidad de apariciones de cada carácter en la cadena.\n",
    "\n",
    "Ejemplo: si se ingresa \"paloma\" p=1 a=2 l=1 o=1 m=1"
   ]
  },
  {
   "cell_type": "code",
   "execution_count": 31,
   "metadata": {},
   "outputs": [
    {
     "name": "stdout",
     "output_type": "stream",
     "text": [
      "Ingresa una palabra\n",
      "La palabra murcielagoamarillo contiene: {'m': 2, 'u': 1, 'r': 2, 'c': 1, 'i': 2, 'e': 1, 'l': 3, 'a': 3, 'g': 1, 'o': 2}\n"
     ]
    }
   ],
   "source": [
    "print('Ingresa una palabra')\n",
    "cadena=input('Palabra:')\n",
    "cadena2=[]\n",
    "palabra={}\n",
    "for i in range(len(cadena)):\n",
    "    if cadena[i] not in cadena2:\n",
    "     cadena2.append(cadena[i])\n",
    "for j in range(len(cadena2)):\n",
    "    h=0\n",
    "    for k in range(len(cadena)):\n",
    "      if cadena[k]==cadena2[j]:\n",
    "         h=h+1\n",
    "      palabra[cadena2[j]]=h        \n",
    "print('La palabra '+cadena+' contiene:',palabra)"
   ]
  },
  {
   "cell_type": "markdown",
   "metadata": {},
   "source": [
    "Ejercicio 3 (2 puntos)\n",
    "\n",
    "Vamos a crear un programa en python donde vamos a declarar un diccionario para guardar los precios de las distintas frutas. El programa pedirá el nombre de la fruta y la cantidad que se ha vendido y nos mostrará el precio final de la fruta a partir de los datos guardados en el diccionario. Si la fruta no existe nos dará un error. Tras cada consulta el programa nos preguntará si queremos hacer otra consulta."
   ]
  },
  {
   "cell_type": "code",
   "execution_count": 4,
   "metadata": {},
   "outputs": [
    {
     "name": "stdout",
     "output_type": "stream",
     "text": [
      "El costo de 3 kg de Naranja es:$ 36\n",
      "El costo de 5 kg de Mango es:$ 75\n",
      "El costo de 4 kg de Manzana es:$ 80\n",
      "Gracias, su total es de:$ 191\n"
     ]
    }
   ],
   "source": [
    "frutas={'Naranja':12,'Mango':15,'Manzana':20,'Pera':18,'Limon':10,'Aguacate':30,}\n",
    "total=0\n",
    "while True:\n",
    "  eleccion = input(\"\"\"\n",
    "   ¿Que fruta desea comprar?\n",
    "   --Naranja\n",
    "   --Mango\n",
    "   --Manzana\n",
    "   --Pera\n",
    "   --Limon\n",
    "   --Aguacate\n",
    "   --Salir\n",
    "\n",
    "   Escriba la opción (primer letra mayuscula): \"\"\")\n",
    "\n",
    "  if eleccion == 'Naranja':\n",
    "     kilos=int(input('¿Cuantos kg desea comprar?'))\n",
    "     costo=kilos*frutas[eleccion]\n",
    "     total=total+costo\n",
    "     print('El costo de',kilos,'kg de',eleccion,'es:$',costo)\n",
    "  \n",
    "  elif eleccion == 'Mango':\n",
    "     kilos=int(input('¿Cuantos kg desea comprar?'))\n",
    "     costo=kilos*frutas[eleccion]\n",
    "     total=total+costo\n",
    "     print('El costo de',kilos,'kg de',eleccion,'es:$',costo)\n",
    "\n",
    "  elif eleccion == 'Manzana':\n",
    "     kilos=int(input('¿Cuantos kg desea comprar?'))\n",
    "     costo=kilos*frutas[eleccion]\n",
    "     total=total+costo\n",
    "     print('El costo de',kilos,'kg de',eleccion,'es:$',costo)\n",
    "  \n",
    "  elif eleccion == 'Pera':\n",
    "     kilos=int(input('¿Cuantos kg desea comprar?'))\n",
    "     costo=kilos*frutas[eleccion]\n",
    "     total=total+costo\n",
    "     print('El costo de',kilos,'kg de',eleccion,'es:$',costo)\n",
    "\n",
    "  elif eleccion == 'Limon':\n",
    "     kilos=int(input('¿Cuantos kg desea comprar?'))\n",
    "     costo=kilos*frutas[eleccion]\n",
    "     total=total+costo\n",
    "     print('El costo de',kilos,'kg de',eleccion,'es:$',costo)\n",
    "\n",
    "  elif eleccion == 'Aguacate':\n",
    "     kilos=int(input('¿Cuantos kg desea comprar?'))\n",
    "     costo=kilos*frutas[eleccion]\n",
    "     total=total+costo\n",
    "     print('El costo de',kilos,'kg de',eleccion,'es:$',costo)\n",
    "  \n",
    "  elif eleccion == 'Salir':\n",
    "     print('Gracias, su total es de:$',total)\n",
    "     break\n",
    "\n",
    "  else:\n",
    "     print('Opción invalida')        \n",
    "\n"
   ]
  }
 ],
 "metadata": {
  "kernelspec": {
   "display_name": "Python 3.10.4 64-bit",
   "language": "python",
   "name": "python3"
  },
  "language_info": {
   "codemirror_mode": {
    "name": "ipython",
    "version": 3
   },
   "file_extension": ".py",
   "mimetype": "text/x-python",
   "name": "python",
   "nbconvert_exporter": "python",
   "pygments_lexer": "ipython3",
   "version": "3.10.4"
  },
  "orig_nbformat": 4,
  "vscode": {
   "interpreter": {
    "hash": "afb734500600fd355917ca529030176ea0ca205570884b88f2f6f7d791fd3fbe"
   }
  }
 },
 "nbformat": 4,
 "nbformat_minor": 2
}
