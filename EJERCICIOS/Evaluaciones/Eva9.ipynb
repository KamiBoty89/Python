{
 "cells": [
  {
   "cell_type": "markdown",
   "metadata": {},
   "source": [
    "Ejercicio 1 (2 puntos)\n",
    "\n",
    "Realice un programa que pregunte aleatoriamente una multiplicación. El programa debe indicar si la respuesta ha sido correcta o no (en caso que la respuesta sea incorrecta el programa debe indicar cuál es la correcta). El programa preguntará 10 multiplicaciones, y al finalizar mostrará el número de aciertos.\n",
    "\n",
    "Análisis\n",
    "\n",
    "Hacemos un bucle con 10 iteraciones, en cada iteración se inicializan dos números con un valor aleatorio (de 2 a 10). Se calcula la multiplicación.\n",
    "Mostramos la multiplicación, y pedimos por teclado el resultado. Si coincide con la multiplicación calculada cuento un acierto, sino escribimos un mensaje de error mostrando el resultado correcto. Cuando salimos del bucle mostramos el número de aciertos.\n",
    "\n",
    "Ejemplo. imprime una multiplicacion (9 * 8 = )por teclado se ingresa la respuesta, eso pasa 10 veces y al final nos imprime cuantas respuestas fueron correctas\n",
    "\n",
    "Recuerda el import random"
   ]
  },
  {
   "cell_type": "code",
   "execution_count": 5,
   "metadata": {},
   "outputs": [
    {
     "name": "stdout",
     "output_type": "stream",
     "text": [
      "¿Cuanto da el producto de 7 * 8 es tu respuesta?\n",
      "¡¡¡CORRECTO!!!\n",
      "¿Cuanto da el producto de 2 * 8 es tu respuesta?\n",
      "¡¡¡CORRECTO!!!\n",
      "¿Cuanto da el producto de 3 * 4 es tu respuesta?\n",
      "¡¡¡CORRECTO!!!\n",
      "¿Cuanto da el producto de 2 * 4 es tu respuesta?\n",
      "¡¡¡CORRECTO!!!\n",
      "¿Cuanto da el producto de 5 * 2 es tu respuesta?\n",
      "¡¡¡CORRECTO!!!\n",
      "¿Cuanto da el producto de 7 * 7 es tu respuesta?\n",
      "¡¡¡INCORRECTO!!!\n",
      "¿Cuanto da el producto de 10 * 6 es tu respuesta?\n",
      "¡¡¡CORRECTO!!!\n",
      "¿Cuanto da el producto de 8 * 3 es tu respuesta?\n",
      "¡¡¡CORRECTO!!!\n",
      "¿Cuanto da el producto de 6 * 10 es tu respuesta?\n",
      "¡¡¡INCORRECTO!!!\n",
      "¿Cuanto da el producto de 7 * 6 es tu respuesta?\n",
      "¡¡¡CORRECTO!!!\n",
      "Acertaste 8 veces.\n"
     ]
    }
   ],
   "source": [
    "import random\n",
    "total=0\n",
    "for n in range(10):\n",
    " n1= random.randint(2, 10)\n",
    " n2= random.randint(2, 10)\n",
    " res=n1*n2\n",
    " print('¿Cuanto da el producto de',n1,'*',n2,'es tu respuesta?')\n",
    " resus=int(input('R='))\n",
    " if resus==res:\n",
    "     print('¡¡¡CORRECTO!!!')\n",
    "     total=total+1\n",
    " else:    \n",
    "     print('¡¡¡INCORRECTO!!!')\n",
    "print('Acertaste',total,'veces.')     "
   ]
  },
  {
   "cell_type": "markdown",
   "metadata": {},
   "source": [
    "Ejercicio 2 (2 puntos)\n",
    "\n",
    "Obtener el cuadrado de todos los elementos en la lista.\n",
    "\n",
    "Lista: [1,2,3,4,5,6,7,8,9,10]"
   ]
  },
  {
   "cell_type": "code",
   "execution_count": 9,
   "metadata": {},
   "outputs": [
    {
     "name": "stdout",
     "output_type": "stream",
     "text": [
      "1 elevado al cuadrado es: 1\n",
      "2 elevado al cuadrado es: 4\n",
      "3 elevado al cuadrado es: 9\n",
      "4 elevado al cuadrado es: 16\n",
      "5 elevado al cuadrado es: 25\n",
      "6 elevado al cuadrado es: 36\n",
      "7 elevado al cuadrado es: 49\n",
      "8 elevado al cuadrado es: 64\n",
      "9 elevado al cuadrado es: 81\n",
      "10 elevado al cuadrado es: 100\n"
     ]
    }
   ],
   "source": [
    "Lista=[1,2,3,4,5,6,7,8,9,10]\n",
    "for n in range(len(Lista)):\n",
    " print(Lista[n],'elevado al cuadrado es:',Lista[n]**2)"
   ]
  },
  {
   "cell_type": "markdown",
   "metadata": {},
   "source": [
    "Ejercicio 3 (2 puntos)\n",
    "\n",
    "Obtener la cantidad de elementos mayores a 5 en la tupla.\n",
    "\n",
    "tupla = (5,2,6,7,8,10,77,55,2,1,30,4,2,3)"
   ]
  },
  {
   "cell_type": "code",
   "execution_count": 13,
   "metadata": {},
   "outputs": [
    {
     "name": "stdout",
     "output_type": "stream",
     "text": [
      "Hay 7 elementos mayores a 5 en la tupla y son: [6, 7, 8, 10, 77, 55, 30]\n"
     ]
    }
   ],
   "source": [
    "tupla=(5,2,6,7,8,10,77,55,2,1,30,4,2,3)\n",
    "total=0\n",
    "lista=[]\n",
    "for n in range(len(tupla)):\n",
    "    if tupla[n]>5:\n",
    "        total=total+1\n",
    "        lista.append(tupla[n])\n",
    "print('Hay',total,'elementos mayores a 5 en la tupla y son:',lista)        "
   ]
  },
  {
   "cell_type": "markdown",
   "metadata": {},
   "source": [
    "Ejercicio 4 (2 puntos)\n",
    "\n",
    "Obtener la suma de todos los elementos en la lista\n",
    "\n",
    "lista = [1,2,3,4]"
   ]
  },
  {
   "cell_type": "code",
   "execution_count": 14,
   "metadata": {},
   "outputs": [
    {
     "name": "stdout",
     "output_type": "stream",
     "text": [
      "La suma de los numeros de la lista es: 10\n"
     ]
    }
   ],
   "source": [
    "lista=[1,2,3,4]\n",
    "suma=0\n",
    "for n in range(len(lista)):\n",
    "     suma=suma+lista[n]\n",
    "print('La suma de los numeros de la lista es:',suma)     "
   ]
  }
 ],
 "metadata": {
  "kernelspec": {
   "display_name": "Python 3.10.4 64-bit",
   "language": "python",
   "name": "python3"
  },
  "language_info": {
   "codemirror_mode": {
    "name": "ipython",
    "version": 3
   },
   "file_extension": ".py",
   "mimetype": "text/x-python",
   "name": "python",
   "nbconvert_exporter": "python",
   "pygments_lexer": "ipython3",
   "version": "3.10.4"
  },
  "orig_nbformat": 4,
  "vscode": {
   "interpreter": {
    "hash": "afb734500600fd355917ca529030176ea0ca205570884b88f2f6f7d791fd3fbe"
   }
  }
 },
 "nbformat": 4,
 "nbformat_minor": 2
}
