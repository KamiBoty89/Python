{
 "cells": [
  {
   "cell_type": "markdown",
   "metadata": {},
   "source": [
    "2 Práctica 2. Números enteros y reales.\n",
    "\n",
    "Realiza los ejercicios de acuerdo a las indicaciones"
   ]
  },
  {
   "cell_type": "code",
   "execution_count": 1,
   "metadata": {},
   "outputs": [
    {
     "name": "stdout",
     "output_type": "stream",
     "text": [
      "Indica el valor en grados Fahrenheit\n",
      "100 °F son  37.77777777777778 °C\n"
     ]
    }
   ],
   "source": [
    "#2.1 Ejercicio 1 (1.5 puntos)\n",
    "\n",
    "#Escribir un programa que convierta un valor dado en grados Fahrenheit a grados Celsius.\n",
    "\n",
    "print('Indica el valor en grados Fahrenheit')\n",
    "far=int(input('Grados fahrenheit:'))\n",
    "cen=(far-32)*5/9  \n",
    "print(far,'°F son ',cen, '°C')"
   ]
  },
  {
   "cell_type": "code",
   "execution_count": 2,
   "metadata": {},
   "outputs": [
    {
     "name": "stdout",
     "output_type": "stream",
     "text": [
      "Ingresa un numero\n",
      "Ingresa otro numero\n",
      "La suma de  2 y 3 es: 5\n",
      "La resta de  2 y 3 es: -1\n",
      "La multiplicación de  2 y 3 es: 6\n",
      "La división de  2 y 3 es: 0.6666666666666666\n"
     ]
    }
   ],
   "source": [
    "#2.2 Ejercicio 2 (1.5 puntos)\n",
    "\n",
    "#Dados dos números, mostrar la suma, resta, división y multiplicación de ambos.\n",
    "\n",
    "print('Ingresa un numero')\n",
    "num1=int(input('Primer numero:'))\n",
    "print('Ingresa otro numero')\n",
    "num2=int(input('Segundo numero:'))\n",
    "suma=num1+num2\n",
    "resta=num1-num2\n",
    "mult=num1*num2\n",
    "div=num1/num2\n",
    "print('La suma de ',num1,'y',num2,'es:',suma)\n",
    "print('La resta de ',num1,'y',num2,'es:',resta)\n",
    "print('La multiplicación de ',num1,'y',num2,'es:',mult)\n",
    "print('La división de ',num1,'y',num2,'es:',div)"
   ]
  },
  {
   "cell_type": "code",
   "execution_count": 3,
   "metadata": {},
   "outputs": [
    {
     "name": "stdout",
     "output_type": "stream",
     "text": [
      "Programa que calcula el périmetro y área de un rectangulo\n",
      "Ingresa la base del rectangulo\n",
      "Ingresa la altura del rectangulo\n",
      "El périmetro del rectangulo es   12 u\n",
      "El área del rectangulo es  8 u2\n"
     ]
    }
   ],
   "source": [
    "#2.3 Ejercicio 3 (1.5 puntos)\n",
    "\n",
    "#Calcular el perímetro y área de un rectángulo dada su base y su altura. Respuesta:\n",
    "\n",
    "print('Programa que calcula el périmetro y área de un rectangulo')\n",
    "print('Ingresa la base del rectangulo')\n",
    "base=int(input('Base:'))\n",
    "print('Ingresa la altura del rectangulo')\n",
    "altura=int(input('Altura:'))\n",
    "perimetro=(2*base)+(2*altura)\n",
    "area=base*altura\n",
    "print('El périmetro del rectangulo es  ',perimetro,'u')\n",
    "print('El área del rectangulo es ',area,'u2')"
   ]
  }
 ],
 "metadata": {
  "kernelspec": {
   "display_name": "Python 3.10.4 64-bit",
   "language": "python",
   "name": "python3"
  },
  "language_info": {
   "codemirror_mode": {
    "name": "ipython",
    "version": 3
   },
   "file_extension": ".py",
   "mimetype": "text/x-python",
   "name": "python",
   "nbconvert_exporter": "python",
   "pygments_lexer": "ipython3",
   "version": "3.10.4"
  },
  "orig_nbformat": 4,
  "vscode": {
   "interpreter": {
    "hash": "afb734500600fd355917ca529030176ea0ca205570884b88f2f6f7d791fd3fbe"
   }
  }
 },
 "nbformat": 4,
 "nbformat_minor": 2
}
