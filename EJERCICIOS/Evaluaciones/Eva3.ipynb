{
 "cells": [
  {
   "cell_type": "markdown",
   "metadata": {},
   "source": [
    "3 Práctica 3. Operadores aritméticos"
   ]
  },
  {
   "cell_type": "markdown",
   "metadata": {},
   "source": [
    "3.1 Ejercicio 1(2 puntos)\n",
    "\n",
    "Simplifica la expresión 5+{{(3+1)}^2}.\n",
    "\n",
    "5+{(4)^2}\n",
    "\n",
    "5+(16)\n",
    "\n",
    "21"
   ]
  },
  {
   "cell_type": "markdown",
   "metadata": {},
   "source": [
    "3.2 Ejercicio 2 (2 puntos)\n",
    "\n",
    "Simplifica la expresión 12-2{{(6-3)}^2}\\div 3.\n",
    "\n",
    "12-2{(3)^2}\\div 3\n",
    "\n",
    "12-2(9)\\div 3\n",
    "\n",
    "12-18\\div 3\n",
    "\n",
    "12-6\n",
    "\n",
    "6"
   ]
  },
  {
   "cell_type": "markdown",
   "metadata": {},
   "source": [
    "3.3 Ejercicio 3 (2 puntos)\n",
    "\n",
    "Simplifica la expresión 12x+4[6-(3x+2)].\n",
    "\n",
    "12x+4[6-3x-2)]\n",
    "\n",
    "12x+4[-3x+4)]\n",
    "\n",
    "12x-12x+16\n",
    "\n",
    "16"
   ]
  }
 ],
 "metadata": {
  "kernelspec": {
   "display_name": "Python 3.10.4 64-bit",
   "language": "python",
   "name": "python3"
  },
  "language_info": {
   "name": "python",
   "version": "3.10.4"
  },
  "orig_nbformat": 4,
  "vscode": {
   "interpreter": {
    "hash": "afb734500600fd355917ca529030176ea0ca205570884b88f2f6f7d791fd3fbe"
   }
  }
 },
 "nbformat": 4,
 "nbformat_minor": 2
}
