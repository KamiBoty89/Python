{
 "cells": [
  {
   "cell_type": "markdown",
   "metadata": {},
   "source": [
    "Realizar un programa que inicialice una lista con 10 valores aleatorios (del 1 al 10) y posteriormente muestre en pantalla cada elemento de la lista junto con su cuadrado y su cubo. Respuesta:"
   ]
  },
  {
   "cell_type": "code",
   "execution_count": 18,
   "metadata": {},
   "outputs": [
    {
     "name": "stdout",
     "output_type": "stream",
     "text": [
      "[1, 8, 5, 4, 5, 10, 9, 3, 5, 3]\n",
      "1 elevado al cuadrado es: 1 \n",
      " 1 elevado al cubo es: 1 \n",
      "\n",
      "8 elevado al cuadrado es: 64 \n",
      " 8 elevado al cubo es: 512 \n",
      "\n",
      "5 elevado al cuadrado es: 25 \n",
      " 5 elevado al cubo es: 125 \n",
      "\n",
      "4 elevado al cuadrado es: 16 \n",
      " 4 elevado al cubo es: 64 \n",
      "\n",
      "5 elevado al cuadrado es: 25 \n",
      " 5 elevado al cubo es: 125 \n",
      "\n",
      "10 elevado al cuadrado es: 100 \n",
      " 10 elevado al cubo es: 1000 \n",
      "\n",
      "9 elevado al cuadrado es: 81 \n",
      " 9 elevado al cubo es: 729 \n",
      "\n",
      "3 elevado al cuadrado es: 9 \n",
      " 3 elevado al cubo es: 27 \n",
      "\n",
      "5 elevado al cuadrado es: 25 \n",
      " 5 elevado al cubo es: 125 \n",
      "\n",
      "3 elevado al cuadrado es: 9 \n",
      " 3 elevado al cubo es: 27 \n",
      "\n"
     ]
    }
   ],
   "source": [
    "import random\n",
    "i=0\n",
    "numeros=[]\n",
    "while i<10:\n",
    "    num=random.randint(1,10)\n",
    "    numeros.append(num)  \n",
    "    i=i+1  \n",
    "print(numeros)\n",
    "for n in numeros:\n",
    "    print(n, 'elevado al cuadrado es:', n**2, '\\n',n, 'elevado al cubo es:',n**3,'\\n' )\n"
   ]
  },
  {
   "cell_type": "markdown",
   "metadata": {},
   "source": [
    "Crea una lista e inicializarla con 5 cadenas de caracteres leídas por teclado. Copia los elementos de la lista en otra lista pero en orden inverso, y muestra sus elementos por la pantalla. Respuesta:"
   ]
  },
  {
   "cell_type": "code",
   "execution_count": 49,
   "metadata": {},
   "outputs": [
    {
     "name": "stdout",
     "output_type": "stream",
     "text": [
      "Ingrese un grupo de palabras\n",
      "['uno', 'dos', 'tres', 'cuatro', 'cinco']\n",
      "[['cinco', 'cuatro', 'tres', 'dos', 'uno']]\n"
     ]
    }
   ],
   "source": [
    "i=0\n",
    "cadenas=[]\n",
    "cadenas2=[]\n",
    "print('Ingrese un grupo de palabras')\n",
    "while i<5:\n",
    "    cadenas.append(input('Ingrese una cadena de caracteres:'))\n",
    "    i=i+1  \n",
    "cadenas2.append(cadenas[::-1])    \n",
    "print(cadenas)\n",
    "print(cadenas2) \n",
    "   \n",
    "\n",
    "    "
   ]
  },
  {
   "cell_type": "markdown",
   "metadata": {},
   "source": [
    "Se quiere realizar un programa que lea por teclado las 5 notas obtenidas por un alumno (comprendidas entre 0 y 10). A continuación debe mostrar todas las notas, la nota media, la nota más alta que ha sacado y la menor."
   ]
  },
  {
   "cell_type": "code",
   "execution_count": 40,
   "metadata": {},
   "outputs": [
    {
     "name": "stdout",
     "output_type": "stream",
     "text": [
      "Ingrese las notas del alumno\n",
      "Las notas del alumno son: [1.0, 2.0, 3.0, 4.0, 5.0]\n",
      "La nota media es: 3.0\n",
      "La nota mas alta es: 5.0\n",
      "La nota mas baja es: 1.0\n"
     ]
    }
   ],
   "source": [
    "import statistics\n",
    "i=0\n",
    "nota=0\n",
    "notas=[]\n",
    "print('Ingrese las notas del alumno')\n",
    "while i<5:\n",
    "    nota=float(input('Ingrese nota:'))\n",
    "    notas.append(nota)  \n",
    "    i=i+1  \n",
    "print('Las notas del alumno son:',notas)\n",
    "print('La nota media es:',statistics.mean(notas))\n",
    "print('La nota mas alta es:',max(notas))\n",
    "print('La nota mas baja es:',min(notas))"
   ]
  },
  {
   "cell_type": "markdown",
   "metadata": {},
   "source": [
    "Codifica un programa en python que nos permita guardar los nombres de los alumnos de una clase y las notas que han obtenido. Cada alumno puede tener distinta cantidad de notas. Guarda la información en un diccionario cuya claves serán los nombres de los alumnos y los valores serán listados con las notas de cada alumno.\n",
    "\n",
    "El programa pedirá el número de alumnos que vamos a introducir, pedirá su nombre e irá pidiendo sus notas hasta que introduzcamos un número negativo. Al final el programa nos mostrará la lista de alumnos y la nota media obtenida por cada uno de ellos. Nota: si se introduce el nombre de un alumno que ya existe el programa nos dará un error."
   ]
  },
  {
   "cell_type": "code",
   "execution_count": 87,
   "metadata": {},
   "outputs": [
    {
     "name": "stdout",
     "output_type": "stream",
     "text": [
      "Indique el numero de alumnos que desea ingresar\n",
      "Ingrese nombre del alumno\n",
      "Ingrese nombre del alumno\n",
      "{'Juan': [6.0, 8.0, 7.0], 'Manuel': [8.0, 9.0, 10.0]}\n",
      "Juan ha obtenido las siguientes notas: [6.0, 8.0, 7.0] \n",
      "Su promedio es: 7.0\n",
      "Manuel ha obtenido las siguientes notas: [8.0, 9.0, 10.0] \n",
      "Su promedio es: 9.0\n"
     ]
    }
   ],
   "source": [
    "materia={}\n",
    "nombre=''\n",
    "print('Indique el numero de alumnos que desea ingresar')\n",
    "numal=int(input('Numero de alumnos:'))\n",
    "for num in range(numal):\n",
    " notas=[]   \n",
    " print('Ingrese nombre del alumno')\n",
    " nombre=input('Nombre:')\n",
    " while nombre in materia:\n",
    "     print('El nombre ya existe')\n",
    "     print('Ingrese nombre del alumno')\n",
    "     nombre=input('Nombre:')\n",
    " nota=float(input('Ingrese la nota, ingresa una nota negativa (-) para terminar'))\n",
    " while nota>=0:\n",
    "     notas.append(nota)\n",
    "     nota=float(input('Ingrese la nota, ingresa una nota negativa (-) para terminar'))\n",
    "     materia[nombre]=notas.copy()\n",
    "print(materia)\n",
    "for nombre,notas in materia.items():\n",
    "    print(nombre,'ha obtenido las siguientes notas:',materia[nombre],'\\n''Su promedio es:',sum(notas)/len(notas))"
   ]
  },
  {
   "cell_type": "markdown",
   "metadata": {},
   "source": [
    "Crea una tupla con los meses del año, pide números al usuario, si el número está entre 1 y la longitud máxima de la tupla, muestra el contenido de esa posición sino muestra un mensaje de error. El programa termina cuando el usuario introduce un cero."
   ]
  },
  {
   "cell_type": "code",
   "execution_count": 91,
   "metadata": {},
   "outputs": [
    {
     "name": "stdout",
     "output_type": "stream",
     "text": [
      "Enero\n",
      "Febrero\n",
      "Marzo\n",
      "Abril\n",
      "Mayo\n",
      "Junio\n",
      "Julio\n",
      "Agosto\n",
      "Septiembre\n",
      "Octubre\n",
      "Noviembre\n",
      "Diciembre\n",
      "Adios\n"
     ]
    }
   ],
   "source": [
    "meses=('Enero','Febrero','Marzo','Abril','Mayo','Junio','Julio','Agosto','Septiembre','Octubre','Noviembre','Diciembre')\n",
    "numero=int(input('Ingresa un numero, cero para terminar:'))\n",
    "while numero!=0:\n",
    "    if numero<13 or numero>0:\n",
    "        print(meses[numero-1])\n",
    "        numero=int(input('Ingresa un numero, cero para terminar:'))\n",
    "    else:\n",
    "        print('Numero fuera de rango')    \n",
    "        numero=int(input('Ingresa un numero, cero para terminar:'))\n",
    "print('Adios')        "
   ]
  }
 ],
 "metadata": {
  "kernelspec": {
   "display_name": "Python 3.10.4 64-bit",
   "language": "python",
   "name": "python3"
  },
  "language_info": {
   "codemirror_mode": {
    "name": "ipython",
    "version": 3
   },
   "file_extension": ".py",
   "mimetype": "text/x-python",
   "name": "python",
   "nbconvert_exporter": "python",
   "pygments_lexer": "ipython3",
   "version": "3.10.4"
  },
  "orig_nbformat": 4,
  "vscode": {
   "interpreter": {
    "hash": "afb734500600fd355917ca529030176ea0ca205570884b88f2f6f7d791fd3fbe"
   }
  }
 },
 "nbformat": 4,
 "nbformat_minor": 2
}
