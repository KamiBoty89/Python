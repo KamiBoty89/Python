{
 "cells": [
  {
   "cell_type": "markdown",
   "metadata": {},
   "source": [
    "Ejercicio 1 (1.5 puntos)\n",
    "Realizar un ejemplo de menú, donde podemos escoger las distintas opciones hasta que seleccionamos la opción de “Salir”.\n",
    "\n",
    "Menú de recomendaciones\n",
    "\n",
    "Literatura\n",
    "Cine\n",
    "Música\n",
    "Videojuegos\n",
    "Salir\n",
    "Al ingresar una opcion\n",
    "opcion 1:\n",
    "\n",
    "Lecturas recomendables:\n",
    "\n",
    "Esperándolo a Tito y otros cuentos de fútbol (Eduardo Sacheri)\n",
    "El juego de Ender (Orson Scott Card)\n",
    "El sueño de los héroes (Adolfo Bioy Casares)\n",
    "opcion 2:\n",
    "\n",
    "Películas recomendables:\n",
    "\n",
    "Matrix (1999)\n",
    "El último samuray (2003)\n",
    "Cars (2006)\n",
    "opcion 3:\n",
    "\n",
    "Discos recomendables:\n",
    "\n",
    "Despedazado por mil partes (La Renga, 1996)\n",
    "Búfalo (La Mississippi, 2008)\n",
    "Gaia (Mago de Oz, 2003)\n",
    "opcion 4:\n",
    "\n",
    "Videojuegos clásicos recomendables\n",
    "Día del tentáculo (LucasArts, 1993)\n",
    "Terminal Velocity (Terminal Reality/3D Realms, 1995)\n",
    "Death Rally (Remedy/Apogee, 1996)\n",
    "opcion 5:\n",
    "\n",
    "Gracias, vuelva prontos\n",
    "\n",
    "Opción no válida, en caso de ingresar un número fuera de las opciones"
   ]
  },
  {
   "cell_type": "code",
   "execution_count": 16,
   "metadata": {},
   "outputs": [
    {
     "name": "stdout",
     "output_type": "stream",
     "text": [
      "Películas recomendables:\n",
      "  °Matrix (1999)\n",
      "  °El último samuray (2003)\n",
      "  °Cars (2006)\n",
      "Gracias, vuelva prontos\n"
     ]
    }
   ],
   "source": [
    "while True:\n",
    "  eleccion = input(\"\"\"\n",
    "   1 - Literaura\n",
    "   2 - Cine\n",
    "   3 - Música\n",
    "   4 - Videojuegos\n",
    "   5 - Salir\n",
    "   Selecciona una opción: \"\"\")\n",
    "\n",
    "  if eleccion == \"1\":\n",
    "     print('Lecturas recomendables:\\n  °Esperándolo a Tito y otros cuentos de fútbol (Eduardo Sacheri)\\n  °El juego de Ender (Orson Scott Card)\\n  °El sueño de los héroes (Adolfo Bioy Casares)')\n",
    "\n",
    "  elif eleccion == \"2\":\n",
    "     print('Películas recomendables:\\n  °Matrix (1999)\\n  °El último samuray (2003)\\n  °Cars (2006)')\n",
    "\n",
    "  elif eleccion == \"3\":\n",
    "     print('Discos recomendables:\\n  °Despedazado por mil partes (La Renga, 1996)\\n  °Búfalo (La Mississippi, 2008)\\n  °Gaia (Mago de Oz, 2003)')\n",
    "\n",
    "  elif eleccion == \"4\":\n",
    "     print('Videojuegos clásicos recomendables:\\n  °Día del tentáculo (LucasArts, 1993)\\n  °Terminal Velocity (Terminal Reality/3D Realms, 1995)\\n  °Death Rally (Remedy/Apogee, 1996)')\n",
    "  \n",
    "  elif eleccion == \"5\":\n",
    "       print('Gracias, vuelva prontos')\n",
    "       break\n",
    "  else:\n",
    "    print('Opción invalida')"
   ]
  },
  {
   "cell_type": "markdown",
   "metadata": {},
   "source": [
    "Ejercicio 2 (1.5 puntos)\n",
    "Se pide por teclado un número y nos imprime los números primos que hay previos a este número.\n",
    "\n",
    "Ejemplo: si ingresamos el 10 nos imprima del 1 a ese 10 cuales números son primos."
   ]
  },
  {
   "cell_type": "code",
   "execution_count": 30,
   "metadata": {},
   "outputs": [
    {
     "name": "stdout",
     "output_type": "stream",
     "text": [
      "Ingressa un numero entero positivo\n",
      "Los numeros primos entre el 1 y el numero 120 son: [1, 2, 3, 5, 7, 11, 13, 17, 19, 23, 29, 31, 37, 41, 43, 47, 53, 59, 61, 67, 71, 73, 79, 83, 89, 97, 101, 103, 107, 109, 113]\n"
     ]
    }
   ],
   "source": [
    "print('Ingressa un numero entero positivo')\n",
    "numero=int(input('Numero:'))\n",
    "j=1\n",
    "lista2=[]\n",
    "while j<=numero:\n",
    " lista=[]\n",
    " i=1   \n",
    " while i<=j:\n",
    "     if j%i==0:\n",
    "         lista.append(i)    \n",
    "     i=i+1  \n",
    " if len(lista)<=2:\n",
    "     lista2.append(j)\n",
    " j=j+1         \n",
    "print('Los numeros primos entre el numero 1 y el numero',numero, 'son:',lista2)    "
   ]
  },
  {
   "cell_type": "markdown",
   "metadata": {},
   "source": [
    "Ejercicio 3 (1.5 puntos)\n",
    "Una persona adquirió un producto para pagar en 20 meses. El primer mes pagó 10 €, el segundo 20 €, el tercero 40 € y así sucesivamente. Realizar un algoritmo para determinar cuánto debe pagar mensualmente y el total de lo que pagó después de los 20 meses.\n",
    "\n",
    "Al finalizar los 20 meses pago en total:\n",
    "\n",
    "primer mes pago 10, segundo mes pago 20, tercer mes pago 30, cuarto mes pago 40, etc."
   ]
  },
  {
   "cell_type": "code",
   "execution_count": 37,
   "metadata": {},
   "outputs": [
    {
     "name": "stdout",
     "output_type": "stream",
     "text": [
      "El mes 1 pago :$ 10\n",
      "El mes 2 pago :$ 20\n",
      "El mes 3 pago :$ 30\n",
      "El mes 4 pago :$ 40\n",
      "El mes 5 pago :$ 50\n",
      "El mes 6 pago :$ 60\n",
      "El mes 7 pago :$ 70\n",
      "El mes 8 pago :$ 80\n",
      "El mes 9 pago :$ 90\n",
      "El mes 10 pago :$ 100\n",
      "El mes 11 pago :$ 110\n",
      "El mes 12 pago :$ 120\n",
      "El mes 13 pago :$ 130\n",
      "El mes 14 pago :$ 140\n",
      "El mes 15 pago :$ 150\n",
      "El mes 16 pago :$ 160\n",
      "El mes 17 pago :$ 170\n",
      "El mes 18 pago :$ 180\n",
      "El mes 19 pago :$ 190\n",
      "El mes 20 pago :$ 200\n",
      "La cantidad total pagada es de:$ 2100\n"
     ]
    }
   ],
   "source": [
    "pagos=[]\n",
    "meses=20\n",
    "pago=0\n",
    "total=0\n",
    "for mes in range(meses):\n",
    "    pago=pago+10\n",
    "    pagos.append(pago)\n",
    "    total=total+pago\n",
    "for mes in range(meses):\n",
    " print('El mes',mes+1,'pago :$',pagos[mes]) \n",
    "print('La cantidad total pagada es de:$',total)    "
   ]
  }
 ],
 "metadata": {
  "kernelspec": {
   "display_name": "Python 3.10.4 64-bit",
   "language": "python",
   "name": "python3"
  },
  "language_info": {
   "codemirror_mode": {
    "name": "ipython",
    "version": 3
   },
   "file_extension": ".py",
   "mimetype": "text/x-python",
   "name": "python",
   "nbconvert_exporter": "python",
   "pygments_lexer": "ipython3",
   "version": "3.10.4"
  },
  "orig_nbformat": 4,
  "vscode": {
   "interpreter": {
    "hash": "afb734500600fd355917ca529030176ea0ca205570884b88f2f6f7d791fd3fbe"
   }
  }
 },
 "nbformat": 4,
 "nbformat_minor": 2
}
