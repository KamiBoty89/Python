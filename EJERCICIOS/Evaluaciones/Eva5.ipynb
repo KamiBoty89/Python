{
 "cells": [
  {
   "cell_type": "code",
   "execution_count": 1,
   "metadata": {},
   "outputs": [
    {
     "name": "stdout",
     "output_type": "stream",
     "text": [
      "Ingresa un numero\n",
      "El numero es negativo\n"
     ]
    }
   ],
   "source": [
    "#5.1 Ejercicio 1 (2 puntos)\n",
    "#Programa que imprima si el número es positivo o negativo\n",
    "\n",
    "print('Ingresa un numero')\n",
    "numero=float(input('Numero:'))\n",
    "if numero<0:\n",
    "    print('El numero es negativo')\n",
    "else:\n",
    "    print('El numero es positivo')"
   ]
  },
  {
   "cell_type": "code",
   "execution_count": 3,
   "metadata": {},
   "outputs": [
    {
     "name": "stdout",
     "output_type": "stream",
     "text": [
      "Ingresa un numero\n",
      "El numero 5.0 esta entre el rango 1-7\n"
     ]
    }
   ],
   "source": [
    "#5.2 Ejercicio 2 (2 puntos)\n",
    "#Programa que imprima si el número ingresado esta en el rango de 1 a 7\n",
    "\n",
    "print('Ingresa un numero')\n",
    "numero=float(input('Numero:'))\n",
    "if numero>=1 and numero<=7:\n",
    "    print(f'El numero {numero} esta entre el rango 1-7')\n",
    "else:\n",
    "    print(f'El numero {numero} no esta en el rango 1-7')"
   ]
  },
  {
   "cell_type": "code",
   "execution_count": 4,
   "metadata": {},
   "outputs": [
    {
     "name": "stdout",
     "output_type": "stream",
     "text": [
      "Prestamo Facil \n",
      " Prestamos menores a $1000---> 30%de interes mensual\n",
      " Prestamos mayores o igual a $1000---> 20%de interes mensual\n",
      "Cual es la cantidad que desea prestada\n",
      "La cantidad solicitada es de:$ 200.0\n",
      "El interes por la cantidad solicitada es de: 30 %\n",
      "El importe total de interes mensual:$ 60.0\n"
     ]
    }
   ],
   "source": [
    "#5.3 Ejercicio 3 (2 puntos)\n",
    "#Programa si el interés es mayor al 30%, sino informa el importe total:\n",
    "\n",
    "print('Prestamo Facil \\n Prestamos menores a $1000---> 30%' 'de interes mensual''\\n Prestamos mayores o igual a $1000---> 20%' 'de interes mensual')\n",
    "print('Cual es la cantidad que desea prestada')\n",
    "cantidad=float(input('Cantidad:'))\n",
    "if cantidad<1000:\n",
    "    interes=30\n",
    "else:\n",
    "    interes=20      \n",
    "mensual=cantidad*(interes/100)\n",
    "print('La cantidad solicitada es de:$',cantidad)   \n",
    "print('El interes por la cantidad solicitada es de:',interes,'%') \n",
    "print('El importe total de interes mensual:$',mensual)"
   ]
  }
 ],
 "metadata": {
  "kernelspec": {
   "display_name": "Python 3.10.4 64-bit",
   "language": "python",
   "name": "python3"
  },
  "language_info": {
   "codemirror_mode": {
    "name": "ipython",
    "version": 3
   },
   "file_extension": ".py",
   "mimetype": "text/x-python",
   "name": "python",
   "nbconvert_exporter": "python",
   "pygments_lexer": "ipython3",
   "version": "3.10.4"
  },
  "orig_nbformat": 4,
  "vscode": {
   "interpreter": {
    "hash": "afb734500600fd355917ca529030176ea0ca205570884b88f2f6f7d791fd3fbe"
   }
  }
 },
 "nbformat": 4,
 "nbformat_minor": 2
}
