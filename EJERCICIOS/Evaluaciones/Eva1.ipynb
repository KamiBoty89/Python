{
 "cells": [
  {
   "cell_type": "markdown",
   "metadata": {},
   "source": [
    "1 Práctica 1: Conociendo Python.\n",
    "\n",
    "Objetivo: Identificar el nivel de comprensión de los conceptos mediante preguntas abiertas.\n",
    "\n",
    "Responder las siguientes preguntas:"
   ]
  },
  {
   "cell_type": "markdown",
   "metadata": {},
   "source": [
    "1.1 ¿Qué es python? (2 puntos)\n",
    "\n",
    " R=Python es un lenguaje de programación creado por Guido van Rossum a principios\n",
    " de los años 90. Con una sintaxis muy limpia y que favorece un código legible. Se trata\n",
    " de un lenguaje interpretado o de script, con tipado dinámico, fuertemente tipado, multiplataforma y orientado a objetos.\n"
   ]
  },
  {
   "cell_type": "markdown",
   "metadata": {},
   "source": [
    "1.2 ¿Es multiplataforma en que sistemas operativos funciona ? (2 puntos)\n",
    "\n",
    "  R= UNIX, Solaris, Linux, DOS, Windows, OS/2, Mac OS, etc., por lo que si no utilizamos librerías específicas\n",
    "  de cada plataforma nuestro programa podrá correr en todos estos sistemas sin grandes cambios."
   ]
  },
  {
   "cell_type": "code",
   "execution_count": 2,
   "metadata": {},
   "outputs": [
    {
     "name": "stdout",
     "output_type": "stream",
     "text": [
      "¿Cual es tu nombre?\n",
      "Hola x\n"
     ]
    }
   ],
   "source": [
    "#1.3 Ejercicio 1 (2 puntos) Escribir un programa que pregunte al usuario su nombre, y luego lo salude.\n",
    "\n",
    "print('¿Cual es tu nombre?')\n",
    "nom=input()\n",
    "print('Hola '+nom)"
   ]
  }
 ],
 "metadata": {
  "kernelspec": {
   "display_name": "Python 3.10.4 64-bit",
   "language": "python",
   "name": "python3"
  },
  "language_info": {
   "codemirror_mode": {
    "name": "ipython",
    "version": 3
   },
   "file_extension": ".py",
   "mimetype": "text/x-python",
   "name": "python",
   "nbconvert_exporter": "python",
   "pygments_lexer": "ipython3",
   "version": "3.10.4"
  },
  "orig_nbformat": 4,
  "vscode": {
   "interpreter": {
    "hash": "afb734500600fd355917ca529030176ea0ca205570884b88f2f6f7d791fd3fbe"
   }
  }
 },
 "nbformat": 4,
 "nbformat_minor": 2
}
